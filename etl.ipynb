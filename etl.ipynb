{
 "cells": [
  {
   "cell_type": "markdown",
   "id": "f2769930-2d38-45e0-bafe-6248206b244f",
   "metadata": {},
   "source": [
    "# Pipeline ETL com os dados da Global Super Store"
   ]
  },
  {
   "cell_type": "markdown",
   "id": "8fc79968-02a8-42ef-bcc9-e2057cb9ed58",
   "metadata": {},
   "source": [
    "#### Link dos dados utilizados: https://www.kaggle.com/datasets/apoorvaappz/global-super-store-dataset\n",
    "####"
   ]
  },
  {
   "cell_type": "code",
   "execution_count": 2,
   "id": "4bf17207-8a6a-4a07-8e6b-3d951f9567da",
   "metadata": {},
   "outputs": [],
   "source": [
    "import pandas as pd\n",
    "import numpy as np"
   ]
  },
  {
   "cell_type": "markdown",
   "id": "658488e3-f432-409c-9856-2fb872033f23",
   "metadata": {},
   "source": [
    "## Carregamento dos dados"
   ]
  },
  {
   "cell_type": "code",
   "execution_count": 6,
   "id": "8b6fd394-e002-4143-9b39-27e0fa15cc2d",
   "metadata": {},
   "outputs": [
    {
     "data": {
      "text/html": [
       "<div>\n",
       "<style scoped>\n",
       "    .dataframe tbody tr th:only-of-type {\n",
       "        vertical-align: middle;\n",
       "    }\n",
       "\n",
       "    .dataframe tbody tr th {\n",
       "        vertical-align: top;\n",
       "    }\n",
       "\n",
       "    .dataframe thead th {\n",
       "        text-align: right;\n",
       "    }\n",
       "</style>\n",
       "<table border=\"1\" class=\"dataframe\">\n",
       "  <thead>\n",
       "    <tr style=\"text-align: right;\">\n",
       "      <th></th>\n",
       "      <th>Row ID</th>\n",
       "      <th>Order ID</th>\n",
       "      <th>Order Date</th>\n",
       "      <th>Ship Date</th>\n",
       "      <th>Ship Mode</th>\n",
       "      <th>Customer ID</th>\n",
       "      <th>Customer Name</th>\n",
       "      <th>Segment</th>\n",
       "      <th>City</th>\n",
       "      <th>State</th>\n",
       "      <th>...</th>\n",
       "      <th>Product ID</th>\n",
       "      <th>Category</th>\n",
       "      <th>Sub-Category</th>\n",
       "      <th>Product Name</th>\n",
       "      <th>Sales</th>\n",
       "      <th>Quantity</th>\n",
       "      <th>Discount</th>\n",
       "      <th>Profit</th>\n",
       "      <th>Shipping Cost</th>\n",
       "      <th>Order Priority</th>\n",
       "    </tr>\n",
       "  </thead>\n",
       "  <tbody>\n",
       "    <tr>\n",
       "      <th>0</th>\n",
       "      <td>32298</td>\n",
       "      <td>CA-2012-124891</td>\n",
       "      <td>31-07-2012</td>\n",
       "      <td>31-07-2012</td>\n",
       "      <td>Same Day</td>\n",
       "      <td>RH-19495</td>\n",
       "      <td>Rick Hansen</td>\n",
       "      <td>Consumer</td>\n",
       "      <td>New York City</td>\n",
       "      <td>New York</td>\n",
       "      <td>...</td>\n",
       "      <td>TEC-AC-10003033</td>\n",
       "      <td>Technology</td>\n",
       "      <td>Accessories</td>\n",
       "      <td>Plantronics CS510 - Over-the-Head monaural Wir...</td>\n",
       "      <td>2309.650</td>\n",
       "      <td>7</td>\n",
       "      <td>0.0</td>\n",
       "      <td>762.1845</td>\n",
       "      <td>933.57</td>\n",
       "      <td>Critical</td>\n",
       "    </tr>\n",
       "    <tr>\n",
       "      <th>1</th>\n",
       "      <td>26341</td>\n",
       "      <td>IN-2013-77878</td>\n",
       "      <td>05-02-2013</td>\n",
       "      <td>07-02-2013</td>\n",
       "      <td>Second Class</td>\n",
       "      <td>JR-16210</td>\n",
       "      <td>Justin Ritter</td>\n",
       "      <td>Corporate</td>\n",
       "      <td>Wollongong</td>\n",
       "      <td>New South Wales</td>\n",
       "      <td>...</td>\n",
       "      <td>FUR-CH-10003950</td>\n",
       "      <td>Furniture</td>\n",
       "      <td>Chairs</td>\n",
       "      <td>Novimex Executive Leather Armchair, Black</td>\n",
       "      <td>3709.395</td>\n",
       "      <td>9</td>\n",
       "      <td>0.1</td>\n",
       "      <td>-288.7650</td>\n",
       "      <td>923.63</td>\n",
       "      <td>Critical</td>\n",
       "    </tr>\n",
       "    <tr>\n",
       "      <th>2</th>\n",
       "      <td>25330</td>\n",
       "      <td>IN-2013-71249</td>\n",
       "      <td>17-10-2013</td>\n",
       "      <td>18-10-2013</td>\n",
       "      <td>First Class</td>\n",
       "      <td>CR-12730</td>\n",
       "      <td>Craig Reiter</td>\n",
       "      <td>Consumer</td>\n",
       "      <td>Brisbane</td>\n",
       "      <td>Queensland</td>\n",
       "      <td>...</td>\n",
       "      <td>TEC-PH-10004664</td>\n",
       "      <td>Technology</td>\n",
       "      <td>Phones</td>\n",
       "      <td>Nokia Smart Phone, with Caller ID</td>\n",
       "      <td>5175.171</td>\n",
       "      <td>9</td>\n",
       "      <td>0.1</td>\n",
       "      <td>919.9710</td>\n",
       "      <td>915.49</td>\n",
       "      <td>Medium</td>\n",
       "    </tr>\n",
       "    <tr>\n",
       "      <th>3</th>\n",
       "      <td>13524</td>\n",
       "      <td>ES-2013-1579342</td>\n",
       "      <td>28-01-2013</td>\n",
       "      <td>30-01-2013</td>\n",
       "      <td>First Class</td>\n",
       "      <td>KM-16375</td>\n",
       "      <td>Katherine Murray</td>\n",
       "      <td>Home Office</td>\n",
       "      <td>Berlin</td>\n",
       "      <td>Berlin</td>\n",
       "      <td>...</td>\n",
       "      <td>TEC-PH-10004583</td>\n",
       "      <td>Technology</td>\n",
       "      <td>Phones</td>\n",
       "      <td>Motorola Smart Phone, Cordless</td>\n",
       "      <td>2892.510</td>\n",
       "      <td>5</td>\n",
       "      <td>0.1</td>\n",
       "      <td>-96.5400</td>\n",
       "      <td>910.16</td>\n",
       "      <td>Medium</td>\n",
       "    </tr>\n",
       "    <tr>\n",
       "      <th>4</th>\n",
       "      <td>47221</td>\n",
       "      <td>SG-2013-4320</td>\n",
       "      <td>05-11-2013</td>\n",
       "      <td>06-11-2013</td>\n",
       "      <td>Same Day</td>\n",
       "      <td>RH-9495</td>\n",
       "      <td>Rick Hansen</td>\n",
       "      <td>Consumer</td>\n",
       "      <td>Dakar</td>\n",
       "      <td>Dakar</td>\n",
       "      <td>...</td>\n",
       "      <td>TEC-SHA-10000501</td>\n",
       "      <td>Technology</td>\n",
       "      <td>Copiers</td>\n",
       "      <td>Sharp Wireless Fax, High-Speed</td>\n",
       "      <td>2832.960</td>\n",
       "      <td>8</td>\n",
       "      <td>0.0</td>\n",
       "      <td>311.5200</td>\n",
       "      <td>903.04</td>\n",
       "      <td>Critical</td>\n",
       "    </tr>\n",
       "  </tbody>\n",
       "</table>\n",
       "<p>5 rows × 24 columns</p>\n",
       "</div>"
      ],
      "text/plain": [
       "   Row ID         Order ID  Order Date   Ship Date     Ship Mode Customer ID  \\\n",
       "0   32298   CA-2012-124891  31-07-2012  31-07-2012      Same Day    RH-19495   \n",
       "1   26341    IN-2013-77878  05-02-2013  07-02-2013  Second Class    JR-16210   \n",
       "2   25330    IN-2013-71249  17-10-2013  18-10-2013   First Class    CR-12730   \n",
       "3   13524  ES-2013-1579342  28-01-2013  30-01-2013   First Class    KM-16375   \n",
       "4   47221     SG-2013-4320  05-11-2013  06-11-2013      Same Day     RH-9495   \n",
       "\n",
       "      Customer Name      Segment           City            State  ...  \\\n",
       "0       Rick Hansen     Consumer  New York City         New York  ...   \n",
       "1     Justin Ritter    Corporate     Wollongong  New South Wales  ...   \n",
       "2      Craig Reiter     Consumer       Brisbane       Queensland  ...   \n",
       "3  Katherine Murray  Home Office         Berlin           Berlin  ...   \n",
       "4       Rick Hansen     Consumer          Dakar            Dakar  ...   \n",
       "\n",
       "         Product ID    Category Sub-Category  \\\n",
       "0   TEC-AC-10003033  Technology  Accessories   \n",
       "1   FUR-CH-10003950   Furniture       Chairs   \n",
       "2   TEC-PH-10004664  Technology       Phones   \n",
       "3   TEC-PH-10004583  Technology       Phones   \n",
       "4  TEC-SHA-10000501  Technology      Copiers   \n",
       "\n",
       "                                        Product Name     Sales Quantity  \\\n",
       "0  Plantronics CS510 - Over-the-Head monaural Wir...  2309.650        7   \n",
       "1          Novimex Executive Leather Armchair, Black  3709.395        9   \n",
       "2                  Nokia Smart Phone, with Caller ID  5175.171        9   \n",
       "3                     Motorola Smart Phone, Cordless  2892.510        5   \n",
       "4                     Sharp Wireless Fax, High-Speed  2832.960        8   \n",
       "\n",
       "  Discount    Profit  Shipping Cost  Order Priority  \n",
       "0      0.0  762.1845         933.57        Critical  \n",
       "1      0.1 -288.7650         923.63        Critical  \n",
       "2      0.1  919.9710         915.49          Medium  \n",
       "3      0.1  -96.5400         910.16          Medium  \n",
       "4      0.0  311.5200         903.04        Critical  \n",
       "\n",
       "[5 rows x 24 columns]"
      ]
     },
     "execution_count": 6,
     "metadata": {},
     "output_type": "execute_result"
    }
   ],
   "source": [
    "df_sales = pd.read_csv('Global_Superstore2.csv', encoding='latin-1')\n",
    "df_sales.head()"
   ]
  },
  {
   "cell_type": "code",
   "execution_count": 14,
   "id": "ab2424c2-26da-4ee0-81ef-82006cee4c54",
   "metadata": {},
   "outputs": [
    {
     "data": {
      "text/plain": [
       "(51290, 24)"
      ]
     },
     "execution_count": 14,
     "metadata": {},
     "output_type": "execute_result"
    }
   ],
   "source": [
    "df_sales.shape"
   ]
  },
  {
   "cell_type": "code",
   "execution_count": 15,
   "id": "2488cc82-6e70-4987-8565-b1061bcbc1ef",
   "metadata": {},
   "outputs": [
    {
     "data": {
      "text/plain": [
       "Index(['Row ID', 'Order ID', 'Order Date', 'Ship Date', 'Ship Mode',\n",
       "       'Customer ID', 'Customer Name', 'Segment', 'City', 'State', 'Country',\n",
       "       'Postal Code', 'Market', 'Region', 'Product ID', 'Category',\n",
       "       'Sub-Category', 'Product Name', 'Sales', 'Quantity', 'Discount',\n",
       "       'Profit', 'Shipping Cost', 'Order Priority'],\n",
       "      dtype='object')"
      ]
     },
     "execution_count": 15,
     "metadata": {},
     "output_type": "execute_result"
    }
   ],
   "source": [
    "df_sales.columns"
   ]
  },
  {
   "cell_type": "markdown",
   "id": "786e0904-1826-4421-ae5f-9cf7121a4ef4",
   "metadata": {},
   "source": [
    "#####\n",
    "##### Como podemos ver temos algumas informações que podem ser divididas para outrass tabelas, como os dados do cliente e de produtos. Faremos isso abaixo\n",
    "#####"
   ]
  },
  {
   "cell_type": "markdown",
   "id": "c74913ee-9c2d-4d45-9d49-7bddbebfc95e",
   "metadata": {},
   "source": [
    "## Transformação dos Dados"
   ]
  },
  {
   "cell_type": "markdown",
   "id": "fe4bad49-123b-4ee4-88ee-a5a8eb60143e",
   "metadata": {},
   "source": [
    "#### Aqui modelaremos os dados em um Star Schema e transformaremos antes de carregá-los em uma nuvem por exemplo"
   ]
  },
  {
   "cell_type": "code",
   "execution_count": 8,
   "id": "b7893f31-0e69-4e9b-b310-aaf5516b0487",
   "metadata": {},
   "outputs": [],
   "source": [
    "## Função para criação das tabelas dimensão\n",
    "def create_dimension_tables(df):\n",
    "    # Criação da tabela de dimensão Customer\n",
    "    dim_customer = df[['Customer ID', 'Customer Name', 'Segment']].drop_duplicates().reset_index(drop=True)\n",
    "    \n",
    "    # Criação da tabela de dimensão Product\n",
    "    dim_product = df[['Product ID', 'Product Name', 'Category', 'Sub-Category']].drop_duplicates().reset_index(drop=True)\n",
    "    \n",
    "    # Criação da tabela de dimensão Time\n",
    "    dim_time = pd.DataFrame(pd.date_range(start=df['Order Date'].min(), end=df['Order Date'].max()), columns=['Date'])\n",
    "    dim_time['Year'] = dim_time['Date'].dt.year\n",
    "    dim_time['Month'] = dim_time['Date'].dt.month\n",
    "    dim_time['Day'] = dim_time['Date'].dt.day\n",
    "    dim_time['Weekday'] = dim_time['Date'].dt.weekday\n",
    "    dim_time['Quarter'] = dim_time['Date'].dt.quarter\n",
    "\n",
    "    # Criação da tabela de dimensão Ship Mode\n",
    "    dim_ship_mode = df[['Ship Mode']].drop_duplicates().reset_index(drop=True)\n",
    "    dim_ship_mode.index += 1  # Start indexing from 1\n",
    "    dim_ship_mode.reset_index(inplace=True)\n",
    "    dim_ship_mode.columns = ['Ship Mode ID', 'Ship Mode']\n",
    "\n",
    "    return dim_customer, dim_product, dim_time, dim_ship_mode\n",
    "\n",
    "dim_customer, dim_product, dim_time, dim_ship_mode = create_dimension_tables(df_sales)"
   ]
  },
  {
   "cell_type": "code",
   "execution_count": 9,
   "id": "6b3db1ce-368a-4ae5-9411-9be79235a146",
   "metadata": {},
   "outputs": [
    {
     "data": {
      "text/html": [
       "<div>\n",
       "<style scoped>\n",
       "    .dataframe tbody tr th:only-of-type {\n",
       "        vertical-align: middle;\n",
       "    }\n",
       "\n",
       "    .dataframe tbody tr th {\n",
       "        vertical-align: top;\n",
       "    }\n",
       "\n",
       "    .dataframe thead th {\n",
       "        text-align: right;\n",
       "    }\n",
       "</style>\n",
       "<table border=\"1\" class=\"dataframe\">\n",
       "  <thead>\n",
       "    <tr style=\"text-align: right;\">\n",
       "      <th></th>\n",
       "      <th>Customer ID</th>\n",
       "      <th>Customer Name</th>\n",
       "      <th>Segment</th>\n",
       "    </tr>\n",
       "  </thead>\n",
       "  <tbody>\n",
       "    <tr>\n",
       "      <th>0</th>\n",
       "      <td>RH-19495</td>\n",
       "      <td>Rick Hansen</td>\n",
       "      <td>Consumer</td>\n",
       "    </tr>\n",
       "    <tr>\n",
       "      <th>1</th>\n",
       "      <td>JR-16210</td>\n",
       "      <td>Justin Ritter</td>\n",
       "      <td>Corporate</td>\n",
       "    </tr>\n",
       "    <tr>\n",
       "      <th>2</th>\n",
       "      <td>CR-12730</td>\n",
       "      <td>Craig Reiter</td>\n",
       "      <td>Consumer</td>\n",
       "    </tr>\n",
       "    <tr>\n",
       "      <th>3</th>\n",
       "      <td>KM-16375</td>\n",
       "      <td>Katherine Murray</td>\n",
       "      <td>Home Office</td>\n",
       "    </tr>\n",
       "    <tr>\n",
       "      <th>4</th>\n",
       "      <td>RH-9495</td>\n",
       "      <td>Rick Hansen</td>\n",
       "      <td>Consumer</td>\n",
       "    </tr>\n",
       "  </tbody>\n",
       "</table>\n",
       "</div>"
      ],
      "text/plain": [
       "  Customer ID     Customer Name      Segment\n",
       "0    RH-19495       Rick Hansen     Consumer\n",
       "1    JR-16210     Justin Ritter    Corporate\n",
       "2    CR-12730      Craig Reiter     Consumer\n",
       "3    KM-16375  Katherine Murray  Home Office\n",
       "4     RH-9495       Rick Hansen     Consumer"
      ]
     },
     "execution_count": 9,
     "metadata": {},
     "output_type": "execute_result"
    }
   ],
   "source": [
    "dim_customer.head()"
   ]
  },
  {
   "cell_type": "code",
   "execution_count": 10,
   "id": "ff3ac2ce-d645-4280-9eb9-557bb0427e20",
   "metadata": {},
   "outputs": [
    {
     "data": {
      "text/html": [
       "<div>\n",
       "<style scoped>\n",
       "    .dataframe tbody tr th:only-of-type {\n",
       "        vertical-align: middle;\n",
       "    }\n",
       "\n",
       "    .dataframe tbody tr th {\n",
       "        vertical-align: top;\n",
       "    }\n",
       "\n",
       "    .dataframe thead th {\n",
       "        text-align: right;\n",
       "    }\n",
       "</style>\n",
       "<table border=\"1\" class=\"dataframe\">\n",
       "  <thead>\n",
       "    <tr style=\"text-align: right;\">\n",
       "      <th></th>\n",
       "      <th>Product ID</th>\n",
       "      <th>Product Name</th>\n",
       "      <th>Category</th>\n",
       "      <th>Sub-Category</th>\n",
       "    </tr>\n",
       "  </thead>\n",
       "  <tbody>\n",
       "    <tr>\n",
       "      <th>0</th>\n",
       "      <td>TEC-AC-10003033</td>\n",
       "      <td>Plantronics CS510 - Over-the-Head monaural Wir...</td>\n",
       "      <td>Technology</td>\n",
       "      <td>Accessories</td>\n",
       "    </tr>\n",
       "    <tr>\n",
       "      <th>1</th>\n",
       "      <td>FUR-CH-10003950</td>\n",
       "      <td>Novimex Executive Leather Armchair, Black</td>\n",
       "      <td>Furniture</td>\n",
       "      <td>Chairs</td>\n",
       "    </tr>\n",
       "    <tr>\n",
       "      <th>2</th>\n",
       "      <td>TEC-PH-10004664</td>\n",
       "      <td>Nokia Smart Phone, with Caller ID</td>\n",
       "      <td>Technology</td>\n",
       "      <td>Phones</td>\n",
       "    </tr>\n",
       "    <tr>\n",
       "      <th>3</th>\n",
       "      <td>TEC-PH-10004583</td>\n",
       "      <td>Motorola Smart Phone, Cordless</td>\n",
       "      <td>Technology</td>\n",
       "      <td>Phones</td>\n",
       "    </tr>\n",
       "    <tr>\n",
       "      <th>4</th>\n",
       "      <td>TEC-SHA-10000501</td>\n",
       "      <td>Sharp Wireless Fax, High-Speed</td>\n",
       "      <td>Technology</td>\n",
       "      <td>Copiers</td>\n",
       "    </tr>\n",
       "  </tbody>\n",
       "</table>\n",
       "</div>"
      ],
      "text/plain": [
       "         Product ID                                       Product Name  \\\n",
       "0   TEC-AC-10003033  Plantronics CS510 - Over-the-Head monaural Wir...   \n",
       "1   FUR-CH-10003950          Novimex Executive Leather Armchair, Black   \n",
       "2   TEC-PH-10004664                  Nokia Smart Phone, with Caller ID   \n",
       "3   TEC-PH-10004583                     Motorola Smart Phone, Cordless   \n",
       "4  TEC-SHA-10000501                     Sharp Wireless Fax, High-Speed   \n",
       "\n",
       "     Category Sub-Category  \n",
       "0  Technology  Accessories  \n",
       "1   Furniture       Chairs  \n",
       "2  Technology       Phones  \n",
       "3  Technology       Phones  \n",
       "4  Technology      Copiers  "
      ]
     },
     "execution_count": 10,
     "metadata": {},
     "output_type": "execute_result"
    }
   ],
   "source": [
    "dim_product.head()"
   ]
  },
  {
   "cell_type": "code",
   "execution_count": 11,
   "id": "a7f028b6-6624-4869-b702-105502ab1e35",
   "metadata": {},
   "outputs": [
    {
     "data": {
      "text/html": [
       "<div>\n",
       "<style scoped>\n",
       "    .dataframe tbody tr th:only-of-type {\n",
       "        vertical-align: middle;\n",
       "    }\n",
       "\n",
       "    .dataframe tbody tr th {\n",
       "        vertical-align: top;\n",
       "    }\n",
       "\n",
       "    .dataframe thead th {\n",
       "        text-align: right;\n",
       "    }\n",
       "</style>\n",
       "<table border=\"1\" class=\"dataframe\">\n",
       "  <thead>\n",
       "    <tr style=\"text-align: right;\">\n",
       "      <th></th>\n",
       "      <th>Date</th>\n",
       "      <th>Year</th>\n",
       "      <th>Month</th>\n",
       "      <th>Day</th>\n",
       "      <th>Weekday</th>\n",
       "      <th>Quarter</th>\n",
       "    </tr>\n",
       "  </thead>\n",
       "  <tbody>\n",
       "    <tr>\n",
       "      <th>0</th>\n",
       "      <td>2011-01-01</td>\n",
       "      <td>2011</td>\n",
       "      <td>1</td>\n",
       "      <td>1</td>\n",
       "      <td>5</td>\n",
       "      <td>1</td>\n",
       "    </tr>\n",
       "    <tr>\n",
       "      <th>1</th>\n",
       "      <td>2011-01-02</td>\n",
       "      <td>2011</td>\n",
       "      <td>1</td>\n",
       "      <td>2</td>\n",
       "      <td>6</td>\n",
       "      <td>1</td>\n",
       "    </tr>\n",
       "    <tr>\n",
       "      <th>2</th>\n",
       "      <td>2011-01-03</td>\n",
       "      <td>2011</td>\n",
       "      <td>1</td>\n",
       "      <td>3</td>\n",
       "      <td>0</td>\n",
       "      <td>1</td>\n",
       "    </tr>\n",
       "    <tr>\n",
       "      <th>3</th>\n",
       "      <td>2011-01-04</td>\n",
       "      <td>2011</td>\n",
       "      <td>1</td>\n",
       "      <td>4</td>\n",
       "      <td>1</td>\n",
       "      <td>1</td>\n",
       "    </tr>\n",
       "    <tr>\n",
       "      <th>4</th>\n",
       "      <td>2011-01-05</td>\n",
       "      <td>2011</td>\n",
       "      <td>1</td>\n",
       "      <td>5</td>\n",
       "      <td>2</td>\n",
       "      <td>1</td>\n",
       "    </tr>\n",
       "  </tbody>\n",
       "</table>\n",
       "</div>"
      ],
      "text/plain": [
       "        Date  Year  Month  Day  Weekday  Quarter\n",
       "0 2011-01-01  2011      1    1        5        1\n",
       "1 2011-01-02  2011      1    2        6        1\n",
       "2 2011-01-03  2011      1    3        0        1\n",
       "3 2011-01-04  2011      1    4        1        1\n",
       "4 2011-01-05  2011      1    5        2        1"
      ]
     },
     "execution_count": 11,
     "metadata": {},
     "output_type": "execute_result"
    }
   ],
   "source": [
    "dim_time.head()"
   ]
  },
  {
   "cell_type": "code",
   "execution_count": 13,
   "id": "7271a31f-27b7-4825-9fca-c778c7b9c800",
   "metadata": {},
   "outputs": [
    {
     "data": {
      "text/html": [
       "<div>\n",
       "<style scoped>\n",
       "    .dataframe tbody tr th:only-of-type {\n",
       "        vertical-align: middle;\n",
       "    }\n",
       "\n",
       "    .dataframe tbody tr th {\n",
       "        vertical-align: top;\n",
       "    }\n",
       "\n",
       "    .dataframe thead th {\n",
       "        text-align: right;\n",
       "    }\n",
       "</style>\n",
       "<table border=\"1\" class=\"dataframe\">\n",
       "  <thead>\n",
       "    <tr style=\"text-align: right;\">\n",
       "      <th></th>\n",
       "      <th>Ship Mode ID</th>\n",
       "      <th>Ship Mode</th>\n",
       "    </tr>\n",
       "  </thead>\n",
       "  <tbody>\n",
       "    <tr>\n",
       "      <th>0</th>\n",
       "      <td>1</td>\n",
       "      <td>Same Day</td>\n",
       "    </tr>\n",
       "    <tr>\n",
       "      <th>1</th>\n",
       "      <td>2</td>\n",
       "      <td>Second Class</td>\n",
       "    </tr>\n",
       "    <tr>\n",
       "      <th>2</th>\n",
       "      <td>3</td>\n",
       "      <td>First Class</td>\n",
       "    </tr>\n",
       "    <tr>\n",
       "      <th>3</th>\n",
       "      <td>4</td>\n",
       "      <td>Standard Class</td>\n",
       "    </tr>\n",
       "  </tbody>\n",
       "</table>\n",
       "</div>"
      ],
      "text/plain": [
       "   Ship Mode ID       Ship Mode\n",
       "0             1        Same Day\n",
       "1             2    Second Class\n",
       "2             3     First Class\n",
       "3             4  Standard Class"
      ]
     },
     "execution_count": 13,
     "metadata": {},
     "output_type": "execute_result"
    }
   ],
   "source": [
    "dim_ship_mode"
   ]
  },
  {
   "cell_type": "code",
   "execution_count": 18,
   "id": "88594925-c1ec-4bea-bb7f-c675250bd234",
   "metadata": {},
   "outputs": [],
   "source": [
    "## função para criar a tabela fato\n",
    "def create_fact_table(df, dim_customer, dim_product, dim_time, dim_ship_mode):\n",
    "    fact_sales = df.copy()\n",
    "    \n",
    "    # Mapeando IDs das dimensões\n",
    "    fact_sales = fact_sales.merge(dim_customer, on=['Customer ID', 'Customer Name', 'Segment'])\n",
    "    fact_sales = fact_sales.merge(dim_product, on=['Product ID', 'Product Name', 'Category', 'Sub-Category'])\n",
    "    fact_sales['Order Date'] = pd.to_datetime(fact_sales['Order Date'], dayfirst=True)\n",
    "    fact_sales['Ship Date'] = pd.to_datetime(fact_sales['Ship Date'], dayfirst=True)\n",
    "    fact_sales['Order Date'] = fact_sales['Order Date'].dt.date\n",
    "    fact_sales['Ship Date'] = fact_sales['Ship Date'].dt.date\n",
    "\n",
    "    # Mapear Ship Mode ID\n",
    "    fact_sales = fact_sales.merge(dim_ship_mode, on='Ship Mode')\n",
    "\n",
    "    # Selecionar e renomear colunas para a tabela de fatos\n",
    "    fact_sales = fact_sales[['Row ID', 'Order ID', 'Order Date', 'Ship Date', 'Sales', 'Quantity', 'Discount', 'Profit', \n",
    "                             'Customer ID', 'Product ID', 'Ship Mode ID']]\n",
    "    \n",
    "    return fact_sales\n",
    "\n",
    "fact_sales = create_fact_table(df_sales, dim_customer, dim_product, dim_time, dim_ship_mode)"
   ]
  },
  {
   "cell_type": "code",
   "execution_count": 19,
   "id": "7d578bbf-a8eb-48cc-aca5-8a998f006a99",
   "metadata": {},
   "outputs": [
    {
     "data": {
      "text/html": [
       "<div>\n",
       "<style scoped>\n",
       "    .dataframe tbody tr th:only-of-type {\n",
       "        vertical-align: middle;\n",
       "    }\n",
       "\n",
       "    .dataframe tbody tr th {\n",
       "        vertical-align: top;\n",
       "    }\n",
       "\n",
       "    .dataframe thead th {\n",
       "        text-align: right;\n",
       "    }\n",
       "</style>\n",
       "<table border=\"1\" class=\"dataframe\">\n",
       "  <thead>\n",
       "    <tr style=\"text-align: right;\">\n",
       "      <th></th>\n",
       "      <th>Row ID</th>\n",
       "      <th>Order ID</th>\n",
       "      <th>Order Date</th>\n",
       "      <th>Ship Date</th>\n",
       "      <th>Sales</th>\n",
       "      <th>Quantity</th>\n",
       "      <th>Discount</th>\n",
       "      <th>Profit</th>\n",
       "      <th>Customer ID</th>\n",
       "      <th>Product ID</th>\n",
       "      <th>Ship Mode ID</th>\n",
       "    </tr>\n",
       "  </thead>\n",
       "  <tbody>\n",
       "    <tr>\n",
       "      <th>0</th>\n",
       "      <td>32298</td>\n",
       "      <td>CA-2012-124891</td>\n",
       "      <td>2012-07-31</td>\n",
       "      <td>2012-07-31</td>\n",
       "      <td>2309.650</td>\n",
       "      <td>7</td>\n",
       "      <td>0.0</td>\n",
       "      <td>762.1845</td>\n",
       "      <td>RH-19495</td>\n",
       "      <td>TEC-AC-10003033</td>\n",
       "      <td>1</td>\n",
       "    </tr>\n",
       "    <tr>\n",
       "      <th>1</th>\n",
       "      <td>26341</td>\n",
       "      <td>IN-2013-77878</td>\n",
       "      <td>2013-02-05</td>\n",
       "      <td>2013-02-07</td>\n",
       "      <td>3709.395</td>\n",
       "      <td>9</td>\n",
       "      <td>0.1</td>\n",
       "      <td>-288.7650</td>\n",
       "      <td>JR-16210</td>\n",
       "      <td>FUR-CH-10003950</td>\n",
       "      <td>2</td>\n",
       "    </tr>\n",
       "    <tr>\n",
       "      <th>2</th>\n",
       "      <td>25330</td>\n",
       "      <td>IN-2013-71249</td>\n",
       "      <td>2013-10-17</td>\n",
       "      <td>2013-10-18</td>\n",
       "      <td>5175.171</td>\n",
       "      <td>9</td>\n",
       "      <td>0.1</td>\n",
       "      <td>919.9710</td>\n",
       "      <td>CR-12730</td>\n",
       "      <td>TEC-PH-10004664</td>\n",
       "      <td>3</td>\n",
       "    </tr>\n",
       "    <tr>\n",
       "      <th>3</th>\n",
       "      <td>13524</td>\n",
       "      <td>ES-2013-1579342</td>\n",
       "      <td>2013-01-28</td>\n",
       "      <td>2013-01-30</td>\n",
       "      <td>2892.510</td>\n",
       "      <td>5</td>\n",
       "      <td>0.1</td>\n",
       "      <td>-96.5400</td>\n",
       "      <td>KM-16375</td>\n",
       "      <td>TEC-PH-10004583</td>\n",
       "      <td>3</td>\n",
       "    </tr>\n",
       "    <tr>\n",
       "      <th>4</th>\n",
       "      <td>47221</td>\n",
       "      <td>SG-2013-4320</td>\n",
       "      <td>2013-11-05</td>\n",
       "      <td>2013-11-06</td>\n",
       "      <td>2832.960</td>\n",
       "      <td>8</td>\n",
       "      <td>0.0</td>\n",
       "      <td>311.5200</td>\n",
       "      <td>RH-9495</td>\n",
       "      <td>TEC-SHA-10000501</td>\n",
       "      <td>1</td>\n",
       "    </tr>\n",
       "  </tbody>\n",
       "</table>\n",
       "</div>"
      ],
      "text/plain": [
       "   Row ID         Order ID  Order Date   Ship Date     Sales  Quantity  \\\n",
       "0   32298   CA-2012-124891  2012-07-31  2012-07-31  2309.650         7   \n",
       "1   26341    IN-2013-77878  2013-02-05  2013-02-07  3709.395         9   \n",
       "2   25330    IN-2013-71249  2013-10-17  2013-10-18  5175.171         9   \n",
       "3   13524  ES-2013-1579342  2013-01-28  2013-01-30  2892.510         5   \n",
       "4   47221     SG-2013-4320  2013-11-05  2013-11-06  2832.960         8   \n",
       "\n",
       "   Discount    Profit Customer ID        Product ID  Ship Mode ID  \n",
       "0       0.0  762.1845    RH-19495   TEC-AC-10003033             1  \n",
       "1       0.1 -288.7650    JR-16210   FUR-CH-10003950             2  \n",
       "2       0.1  919.9710    CR-12730   TEC-PH-10004664             3  \n",
       "3       0.1  -96.5400    KM-16375   TEC-PH-10004583             3  \n",
       "4       0.0  311.5200     RH-9495  TEC-SHA-10000501             1  "
      ]
     },
     "execution_count": 19,
     "metadata": {},
     "output_type": "execute_result"
    }
   ],
   "source": [
    "fact_sales.head()"
   ]
  },
  {
   "cell_type": "code",
   "execution_count": 21,
   "id": "f10e2fb8-d528-4c96-89a1-3c960baf625b",
   "metadata": {},
   "outputs": [
    {
     "data": {
      "text/plain": [
       "(51290, 24)"
      ]
     },
     "execution_count": 21,
     "metadata": {},
     "output_type": "execute_result"
    }
   ],
   "source": [
    "df_sales.shape"
   ]
  },
  {
   "cell_type": "code",
   "execution_count": 22,
   "id": "e1bc4548-6bdc-4e3c-8eaa-8b990e4c4350",
   "metadata": {},
   "outputs": [
    {
     "data": {
      "text/plain": [
       "(51290, 11)"
      ]
     },
     "execution_count": 22,
     "metadata": {},
     "output_type": "execute_result"
    }
   ],
   "source": [
    "fact_sales.shape"
   ]
  },
  {
   "cell_type": "markdown",
   "id": "23b53786-aab7-40ab-af47-e85c83523007",
   "metadata": {},
   "source": [
    "## Carregamento dos Dados"
   ]
  },
  {
   "cell_type": "markdown",
   "id": "1c1397ba-af7a-47e5-93b9-11594432b261",
   "metadata": {},
   "source": [
    "#### Aqui o carregamento poderia ser em uma nuvem, mas por conveniência farei isso utilizando o duckdb, simulando um carregamento em um banco de dados"
   ]
  },
  {
   "cell_type": "code",
   "execution_count": 32,
   "id": "22db3994-36ec-4b85-a46a-6cd1a161cbe8",
   "metadata": {},
   "outputs": [
    {
     "name": "stdout",
     "output_type": "stream",
     "text": [
      "[('dim_customer',), ('dim_product',), ('dim_ship_mode',), ('dim_time',), ('fact_sales',)]\n"
     ]
    }
   ],
   "source": [
    "import duckdb\n",
    "\n",
    "# Conectar ao DuckDB (ou criar um novo banco de dados local)\n",
    "con = duckdb.connect('superstore.duckdb')\n",
    "\n",
    "# Carregar Tabelas de Dimensão\n",
    "con.execute(\"CREATE TABLE IF NOT EXISTS dim_customer AS SELECT * FROM dim_customer\")\n",
    "con.execute(\"CREATE TABLE IF NOT EXISTS dim_product AS SELECT * FROM dim_product\")\n",
    "con.execute(\"CREATE TABLE IF NOT EXISTS dim_time AS SELECT * FROM dim_time\")\n",
    "con.execute(\"CREATE TABLE IF NOT EXISTS dim_ship_mode AS SELECT * FROM dim_ship_mode\")\n",
    "\n",
    "# Carregar Tabela de Fatos\n",
    "con.execute(\"CREATE TABLE IF NOT EXISTS fact_sales AS SELECT * FROM fact_sales\")\n",
    "\n",
    "# Para ver as tabelas criadas\n",
    "print(con.execute(\"SHOW TABLES\").fetchall())"
   ]
  },
  {
   "cell_type": "code",
   "execution_count": 33,
   "id": "35c49906-7c3b-42e4-a4b7-c88954720409",
   "metadata": {},
   "outputs": [
    {
     "name": "stdout",
     "output_type": "stream",
     "text": [
      "   Row ID         Order ID Order Date  Ship Date     Sales  Quantity  \\\n",
      "0   32298   CA-2012-124891 2012-07-31 2012-07-31  2309.650         7   \n",
      "1   26341    IN-2013-77878 2013-02-05 2013-02-07  3709.395         9   \n",
      "2   25330    IN-2013-71249 2013-10-17 2013-10-18  5175.171         9   \n",
      "3   13524  ES-2013-1579342 2013-01-28 2013-01-30  2892.510         5   \n",
      "4   47221     SG-2013-4320 2013-11-05 2013-11-06  2832.960         8   \n",
      "5   22732    IN-2013-42360 2013-06-28 2013-07-01  2862.675         5   \n",
      "6   30570    IN-2011-81826 2011-11-07 2011-11-09  1822.080         4   \n",
      "7   31192    IN-2012-86369 2012-04-14 2012-04-18  5244.840         6   \n",
      "8   40155   CA-2014-135909 2014-10-14 2014-10-21  5083.960         5   \n",
      "9   40936   CA-2012-116638 2012-01-28 2012-01-31  4297.644        13   \n",
      "\n",
      "   Discount     Profit Customer ID        Product ID  Ship Mode ID  \n",
      "0       0.0   762.1845    RH-19495   TEC-AC-10003033             1  \n",
      "1       0.1  -288.7650    JR-16210   FUR-CH-10003950             2  \n",
      "2       0.1   919.9710    CR-12730   TEC-PH-10004664             3  \n",
      "3       0.1   -96.5400    KM-16375   TEC-PH-10004583             3  \n",
      "4       0.0   311.5200     RH-9495  TEC-SHA-10000501             1  \n",
      "5       0.1   763.2750    JM-15655   TEC-PH-10000030             2  \n",
      "6       0.0   564.8400    TS-21340   FUR-CH-10004050             3  \n",
      "7       0.0   996.4800    MB-18085   FUR-TA-10002958             4  \n",
      "8       0.2  1906.4850    JW-15220   OFF-BI-10003527             4  \n",
      "9       0.4 -1862.3124    JH-15985   FUR-TA-10000198             2  \n"
     ]
    }
   ],
   "source": [
    "## Fazendo testes\n",
    "result = con.execute(\"SELECT * FROM fact_sales LIMIT 10\").fetchdf()\n",
    "print(result)"
   ]
  },
  {
   "cell_type": "code",
   "execution_count": 35,
   "id": "43375d2e-09c7-4550-aedb-ba25f2fadaae",
   "metadata": {},
   "outputs": [
    {
     "name": "stdout",
     "output_type": "stream",
     "text": [
      "         Product ID                                       Product Name  \\\n",
      "0   TEC-AC-10003033  Plantronics CS510 - Over-the-Head monaural Wir...   \n",
      "1   FUR-CH-10003950          Novimex Executive Leather Armchair, Black   \n",
      "2   TEC-PH-10004664                  Nokia Smart Phone, with Caller ID   \n",
      "3   TEC-PH-10004583                     Motorola Smart Phone, Cordless   \n",
      "4  TEC-SHA-10000501                     Sharp Wireless Fax, High-Speed   \n",
      "5   TEC-PH-10000030                Samsung Smart Phone, with Caller ID   \n",
      "6   FUR-CH-10004050     Novimex Executive Leather Armchair, Adjustable   \n",
      "7   FUR-TA-10002958       Chromcraft Conference Table, Fully Assembled   \n",
      "8   OFF-BI-10003527  Fellowes PB500 Electric Punch Plastic Comb Bin...   \n",
      "9   FUR-TA-10000198  Chromcraft Bull-Nose Wood Oval Conference Tabl...   \n",
      "\n",
      "          Category Sub-Category  \n",
      "0       Technology  Accessories  \n",
      "1        Furniture       Chairs  \n",
      "2       Technology       Phones  \n",
      "3       Technology       Phones  \n",
      "4       Technology      Copiers  \n",
      "5       Technology       Phones  \n",
      "6        Furniture       Chairs  \n",
      "7        Furniture       Tables  \n",
      "8  Office Supplies      Binders  \n",
      "9        Furniture       Tables  \n"
     ]
    }
   ],
   "source": [
    "products = con.execute(\"SELECT * FROM dim_product LIMIT 10\").fetchdf()\n",
    "print(products)"
   ]
  },
  {
   "cell_type": "code",
   "execution_count": 36,
   "id": "de552899-081a-442b-8c1b-aa50b69ad2aa",
   "metadata": {},
   "outputs": [],
   "source": [
    "con.close()"
   ]
  },
  {
   "cell_type": "code",
   "execution_count": null,
   "id": "347fa766-2b22-43ab-a3e6-50023bf4d1ae",
   "metadata": {},
   "outputs": [],
   "source": []
  }
 ],
 "metadata": {
  "kernelspec": {
   "display_name": "Python 3 (ipykernel)",
   "language": "python",
   "name": "python3"
  },
  "language_info": {
   "codemirror_mode": {
    "name": "ipython",
    "version": 3
   },
   "file_extension": ".py",
   "mimetype": "text/x-python",
   "name": "python",
   "nbconvert_exporter": "python",
   "pygments_lexer": "ipython3",
   "version": "3.10.8"
  }
 },
 "nbformat": 4,
 "nbformat_minor": 5
}
